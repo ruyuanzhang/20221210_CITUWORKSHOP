{
 "cells": [
  {
   "attachments": {},
   "cell_type": "markdown",
   "metadata": {},
   "source": [
    "# Perceptual decision making (4)\n",
    "\n",
    "In this section, we introduce how the standard drift-diffusion model(DDM) can be used to fit real data."
   ]
  },
  {
   "attachments": {},
   "cell_type": "markdown",
   "metadata": {},
   "source": [
    "In the standard DDM, sensory evidence in each frame follows a Gaussian distribution\n",
    "$$\n",
    "e = N(u, \\sigma^2)\n",
    "$$\n",
    "The visibility of stimuli becomes higher as coherence increases. In theory, a higher coherence provides stronger sensory evidence in each frame. Assuming $\\sigma=0.1$, we further assuming a linear relationship between the mean $u$ of the distribution and cohernece level $coh$\n",
    "$$\n",
    "u = k*coh\n",
    "$$\n",
    "\n",
    "Let' simulate a drift-diffusion process. We have two settings:\n",
    "* The answer is correct if the accumulated evidence reaches the upper bound, and vice verse for the lower bound\n",
    "* Sensory evidence starts at the middle point between the upper and lower bounds."
   ]
  },
  {
   "cell_type": "code",
   "execution_count": 1,
   "metadata": {},
   "outputs": [
    {
     "data": {
      "text/plain": [
       "(0.0, 3.0)"
      ]
     },
     "execution_count": 1,
     "metadata": {},
     "output_type": "execute_result"
    },
    {
     "data": {
      "image/png": "[encoded data removed]",
      "text/plain": [
       "<Figure size 432x288 with 1 Axes>"
      ]
     },
     "metadata": {},
     "output_type": "display_data"
    }
   ],
   "source": [
    "from scipy.stats import norm\n",
    "import numpy as np\n",
    "import matplotlib.pyplot as plt \n",
    "\n",
    "B = 2 # decision boundary\n",
    "k = 1 # linear coeffient between drift rate and coherence\n",
    "coh = 0.064 # choose one coefficient\n",
    "driftRate = k * coh # 计算drift rate, 漂移率\n",
    "sigma = 0.1\n",
    "\n",
    "evidence = B/2\n",
    "accumEvidence = []\n",
    "accumEvidence.append(evidence)\n",
    "\n",
    "i = 0\n",
    "while np.abs(evidence) < B:\n",
    "    # update frame number\n",
    "    i = i+1\n",
    "    # update evidence\n",
    "    # for every frame, we sample a \n",
    "    evidence = evidence + norm.rvs(loc=driftRate, scale=sigma, size=1)[0]\n",
    "    \n",
    "    accumEvidence.append(evidence)\n",
    "\n",
    "plt.plot(np.arange(i+1), accumEvidence, '-o')\n",
    "plt.axhline(B, color='k', label='Decision boundary')\n",
    "plt.xlabel('# of frame')\n",
    "plt.ylabel('Accumulated evidence')\n",
    "plt.ylim([0, B+1])"
   ]
  },
  {
   "attachments": {},
   "cell_type": "markdown",
   "metadata": {},
   "source": [
    "The standard DDM has four free paremters:\n",
    "* drift coefficient: $k$, $u = k * coh$ \n",
    "* decision boundary: $B$\n",
    "* initial bias: 0.5. In some scenarios, the starting point could be biased towards either the upper or the lower bounds, indicating the prior bias in decision-making processes.\n",
    "* non-decision time(ndt): the whole decision process includes both drift-diffusion process and the duratin of other non-decision processes (e.g., the time for a button press)\n",
    "\n",
    "In a typical experiment, we know the three varibles in each trial:\n",
    "* coherence \n",
    "* Correct/wrong($c_i$=1/0)\n",
    "* Reaction time (ms), $rt_i$\n",
    "\n",
    "We use the data to infere the four free parameters of each subject. Let $\\theta=(k, B, a, ndt)$, where $k$ is drift coefficient, $B$ is decision boundary，$a$ is initial bias, $ndt$ is non-decision time.\n",
    "\n",
    "We used the method of maximum likelihood estimate to obtain the parameters\n",
    "$$\n",
    "p(rt_i|\\theta, coh_i, c_i)\n",
    "$$"
   ]
  },
  {
   "cell_type": "code",
   "execution_count": 2,
   "metadata": {},
   "outputs": [],
   "source": [
    "from scipy.optimize import minimize\n",
    "from ddm import ddmpdf # ddm probility density function"
   ]
  },
  {
   "attachments": {},
   "cell_type": "markdown",
   "metadata": {},
   "source": [
    "Let's load the data"
   ]
  },
  {
   "cell_type": "code",
   "execution_count": 3,
   "metadata": {},
   "outputs": [
    {
     "name": "stdout",
     "output_type": "stream",
     "text": [
      "(300, 3)\n"
     ]
    }
   ],
   "source": [
    "data = np.loadtxt('exampledata.txt')\n",
    "print(data.shape)"
   ]
  },
  {
   "attachments": {},
   "cell_type": "markdown",
   "metadata": {},
   "source": [
    "The example data is a 300 x 3 array.\n",
    "* 1st column: coherence\n",
    "* 2nd column: reaction time\n",
    "* 3rd column: correct/wrong (1/0)"
   ]
  },
  {
   "cell_type": "code",
   "execution_count": 4,
   "metadata": {},
   "outputs": [],
   "source": [
    "# define a negative log-likelihood objective functions\n",
    "def negloglikeli(params):\n",
    "    '''\n",
    "    <params>:(4,) array, drift coefficient, decision boundary, initial bias, non-decision time\n",
    "    '''\n",
    "    k = params[0] # drift coefficient\n",
    "    B = params[1] # decision boundary\n",
    "    a = params[2] # initial bias (0, 1)\n",
    "    ndt = params[3] # non-decision time\n",
    "\n",
    "    nTrial = data.shape[0] # how many trials\n",
    "    pp = np.empty(nTrial)\n",
    "    for i in range(nTrial): # loop trial\n",
    "        pp[i] = ddmpdf(k, a, B, ndt, coh=data[i, 0], rt=data[i, 1], correct=data[i, 2])\n",
    "\n",
    "    pp=0.999*pp + np.finfo(np.float32).eps # to avoid p=0\n",
    "    return -np.log(pp).sum() # take log, sum，add negative"
   ]
  },
  {
   "attachments": {},
   "cell_type": "markdown",
   "metadata": {},
   "source": [
    "Let's optimize this objective function to obtain the fitted parameters"
   ]
  },
  {
   "cell_type": "code",
   "execution_count": 5,
   "metadata": {},
   "outputs": [
    {
     "name": "stdout",
     "output_type": "stream",
     "text": [
      "\n",
      "fitted drift coefficient is  5.230182736037302\n",
      "fitted decision boundary is  3.7366576115442984\n",
      "fitted initial bias is  0.5365717590074572\n",
      "fitted nondecision time is  0.039535784310445014\n"
     ]
    }
   ],
   "source": [
    "res = minimize(fun=negloglikeli, x0=(1.6, 2.3, 0.5, 0.01), bounds=((0, 20), (0, 5), (0, 1), (0, 1))) # bounds这里是约束参数的取值范围\n",
    "\n",
    "print('\\nfitted drift coefficient is ', res.x[0])\n",
    "print('fitted decision boundary is ', res.x[1])\n",
    "print('fitted initial bias is ', res.x[2])\n",
    "print('fitted nondecision time is ', res.x[3])"
   ]
  },
  {
   "attachments": {},
   "cell_type": "markdown",
   "metadata": {},
   "source": [
    "# Summary\n",
    "* The standard DDM assumes a linear relationship between drift rate and coherence\n",
    "* We can use a predefined likelihood function to calculate log likelihood of data given parameter\n",
    "* We use the method of maximum likelihood estimation to infer free paremeters\n",
    " "
   ]
  }
 ],
 "metadata": {
  "kernelspec": {
   "display_name": "mne",
   "language": "python",
   "name": "python3"
  },
  "language_info": {
   "codemirror_mode": {
    "name": "ipython",
    "version": 3
   },
   "file_extension": ".py",
   "mimetype": "text/x-python",
   "name": "python",
   "nbconvert_exporter": "python",
   "pygments_lexer": "ipython3",
   "version": "3.10.4"
  },
  "orig_nbformat": 4,
  "vscode": {
   "interpreter": {
    "hash": "6c5a876fa049f083f2e571ef64f1d25be9eec14fbc0627aabafac0fa7f44fa64"
   }
  }
 },
 "nbformat": 4,
 "nbformat_minor": 2
}
