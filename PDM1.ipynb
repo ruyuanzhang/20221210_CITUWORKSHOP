{
 "cells": [
  {
   "attachments": {},
   "cell_type": "markdown",
   "metadata": {},
   "source": [
    "# Perceptual decision making (1)\n",
    "In this section, let's first simulate a simple perceptual model\n",
    "\n",
    "## A simple perceptual decision model\n",
    "Suppose the motion stimulus contains $N=100$ dots. As an observer, we view $T=2$ frames of the motion stimulus。We assume that the observer makes a binary direction (i.e., left/right) choice based on counting how many dots moving towards left/right. \n",
    "\n",
    "To simulate the choice, we count the number of dots moving to the correct direction.\n",
    "\n",
    "Suppose $coh$ is the percent of dots coherently moving to the correct direction. The other $1-coh$ dots move to left or right randomly in each frame. Thus, in each frame, the fraction of dots (i.e., $f$) moving to the correct direction is\n",
    "\n",
    "$$\n",
    "f = coh + \\frac{1-coh}{2}=\\frac{coh}{2}+\\frac{1}{2}\n",
    "$$"
   ]
  },
  {
   "cell_type": "code",
   "execution_count": 1,
   "metadata": {},
   "outputs": [],
   "source": [
    "# This notebook requies the following python packages\n",
    "\n",
    "# pip install numpy scipy matplotib"
   ]
  },
  {
   "cell_type": "code",
   "execution_count": 1,
   "metadata": {},
   "outputs": [],
   "source": [
    "import numpy as np\n",
    "\n",
    "T = 2 # how many frames of the stimulus\n",
    "D = 100 # How many dots in total\n",
    "f = 0.51 # fraction of dots moving to the correct direction"
   ]
  },
  {
   "attachments": {},
   "cell_type": "markdown",
   "metadata": {},
   "source": [
    "Now we calculate how many dots moving to the correct/incorrect directions in the end, and compare them to make a decision"
   ]
  },
  {
   "attachments": {},
   "cell_type": "markdown",
   "metadata": {},
   "source": [
    "We use the Bernoulli distritbuion to simulate the random binary direction choices, similar to a coin-flip process"
   ]
  },
  {
   "cell_type": "code",
   "execution_count": 2,
   "metadata": {},
   "outputs": [],
   "source": [
    "from scipy.stats import bernoulli"
   ]
  },
  {
   "cell_type": "code",
   "execution_count": 8,
   "metadata": {},
   "outputs": [
    {
     "name": "stdout",
     "output_type": "stream",
     "text": [
      "1\n"
     ]
    }
   ],
   "source": [
    "N_correct = 0\n",
    "N_wrong = 0\n",
    "for i in range(T*D): # loop dots and frame\n",
    "    dir = bernoulli.rvs(f, size=1)\n",
    "    N_correct = N_correct + dir # dots to correct + 1 \n",
    "    N_wrong = N_wrong + (1-dir) # dots to incorrect + 1\n",
    "\n",
    "if N_correct > N_wrong:\n",
    "    choice = 1 # we make a correct response in this trial\n",
    "elif N_correct < N_wrong:\n",
    "    choice = 0 # we make an incorrect response in this trial\n",
    "else:\n",
    "    choice = bernoulli.rvs(0.5, size=1)\n",
    "\n",
    "print(choice)"
   ]
  },
  {
   "attachments": {},
   "cell_type": "markdown",
   "metadata": {},
   "source": [
    "Above code simulate a simple choice in a trial. But in real experiments, we typically set many trials and manipulate coherence level (i.e., $coh$ or $f$) and stimulus duration (i.e., $T$ number of frames).\n",
    "\n",
    "We now consider to write a simple choice into a function"
   ]
  },
  {
   "cell_type": "code",
   "execution_count": 9,
   "metadata": {},
   "outputs": [],
   "source": [
    "# the function to simulate a single decision\n",
    "def makeOneDecision(D=100, T=2, f=0.6):\n",
    "    '''\n",
    "    <D>: number of total dots\n",
    "    <T>: number of frames (stimulus duration)\n",
    "    <f>: fraction of dots moving to the correct direction\n",
    "    '''\n",
    "    N_correct = 0\n",
    "    N_wrong = 0\n",
    "    for i in range(T*D): # loop 点\n",
    "        dir = bernoulli.rvs(f, size=1)\n",
    "        N_correct = N_correct + dir # 正确的点数量+1\n",
    "        N_wrong = N_wrong + (1-dir) # 错误的点数量+1\n",
    "\n",
    "    if N_correct > N_wrong:\n",
    "        accuracy = 1\n",
    "    elif N_correct < N_wrong:\n",
    "        accuracy = 0\n",
    "    else:\n",
    "        accuracy = bernoulli.rvs(0.5, size=1)\n",
    "    return accuracy"
   ]
  },
  {
   "attachments": {},
   "cell_type": "markdown",
   "metadata": {},
   "source": [
    "Let's run this one-decision function. You can manipulate number of dots $D$, stimulus duration $T$, and coherence $f$. "
   ]
  },
  {
   "cell_type": "code",
   "execution_count": 12,
   "metadata": {},
   "outputs": [
    {
     "name": "stdout",
     "output_type": "stream",
     "text": [
      "1\n"
     ]
    }
   ],
   "source": [
    "print(makeOneDecision(D=100,T=2,f=0.51))"
   ]
  },
  {
   "attachments": {},
   "cell_type": "markdown",
   "metadata": {},
   "source": [
    "In real experiments, we typically test many trials. We then write a function to simulate many decisions and calculate averaged accuracy. "
   ]
  },
  {
   "cell_type": "code",
   "execution_count": 13,
   "metadata": {},
   "outputs": [],
   "source": [
    "def makeManyDecision(D=100, T=2, f=0.6, nTrial=100):    \n",
    "    '''\n",
    "    <D>: number of total dots\n",
    "    <T>: number of frames (stimulus duration)\n",
    "    <f>: fraction of dots moving to the correct direction\n",
    "    <nTrial>: number of trials\n",
    "    '''\n",
    "    decision = np.empty(nTrial)\n",
    "    for i in range(nTrial):\n",
    "        decision[i]=makeOneDecision(D, T, f)\n",
    "\n",
    "    return decision.sum()/nTrial"
   ]
  },
  {
   "attachments": {},
   "cell_type": "markdown",
   "metadata": {},
   "source": [
    "What is the accuracy if we run 100 trials??"
   ]
  },
  {
   "cell_type": "code",
   "execution_count": 16,
   "metadata": {},
   "outputs": [
    {
     "name": "stdout",
     "output_type": "stream",
     "text": [
      "0.6\n"
     ]
    }
   ],
   "source": [
    "print(makeManyDecision(D=100, T=2, f=0.51))"
   ]
  },
  {
   "attachments": {},
   "cell_type": "markdown",
   "metadata": {},
   "source": [
    "See. This fake subject achieves 60% accuracy.\n",
    "\n",
    "Furthermore, in real experiments, we also set several coherence and stimulus duration conditions."
   ]
  },
  {
   "cell_type": "code",
   "execution_count": 17,
   "metadata": {},
   "outputs": [
    {
     "name": "stdout",
     "output_type": "stream",
     "text": [
      "[0.516 0.532 0.564 0.628 0.76 ]\n",
      "[ 1  6 11 16 21]\n"
     ]
    }
   ],
   "source": [
    "nTrial = 1000 # how many trials in each condition\n",
    "\n",
    "# We set 5 coherence levels\n",
    "coh = np.array([0.032, 0.064, 0.128, 0.256, 0.52])\n",
    "f = (coh+1)/2 # convert coherence to fraction of dots\n",
    "\n",
    "# We set five stimulus durations\n",
    "dur = np.arange(1, 22, 5) # number of frames, stimulus duration\n",
    "\n",
    "# let's print out the values\n",
    "print(f)\n",
    "print(dur)"
   ]
  },
  {
   "attachments": {},
   "cell_type": "markdown",
   "metadata": {},
   "source": [
    "Now we can loop various experimental conditions and obtain the decision accuracy in each condition."
   ]
  },
  {
   "cell_type": "code",
   "execution_count": 18,
   "metadata": {},
   "outputs": [],
   "source": [
    "acc = np.empty((coh.size, dur.size))\n",
    "for iCoh, cc in enumerate(f): # loop coherence conditions\n",
    "    for iDur, dd in enumerate(dur): # loop duration conditions\n",
    "        acc[iCoh, iDur] = makeManyDecision(D=10, T=dd, f=cc)"
   ]
  },
  {
   "attachments": {},
   "cell_type": "markdown",
   "metadata": {},
   "source": [
    "Cool, we let the fake subject complete the experiment. Is it good? We dunno... Let's see its performance."
   ]
  },
  {
   "cell_type": "code",
   "execution_count": 19,
   "metadata": {},
   "outputs": [
    {
     "data": {
      "text/plain": [
       "Text(0, 0.5, 'Accuracy')"
      ]
     },
     "execution_count": 19,
     "metadata": {},
     "output_type": "execute_result"
    },
    {
     "data": {
      "image/png": "[encoded data removed]",
      "text/plain": [
       "<Figure size 288x288 with 1 Axes>"
      ]
     },
     "metadata": {},
     "output_type": "display_data"
    }
   ],
   "source": [
    "import matplotlib.pyplot as plt\n",
    "\n",
    "label = [f'coh={i:.3f}' for i in coh]\n",
    "fig = plt.figure(figsize=(4,4))\n",
    "for iCoh, dd in enumerate(coh):\n",
    "    plt.plot(dur*1000/30, acc[iCoh,:], '-o', label=label[iCoh])\n",
    "# Note here we convert stimulus duration from frame to milliseconds, duration * 1000/30 assuming 30hz refresh rate of a computer monitor \n",
    "# \n",
    "plt.legend()\n",
    "plt.ylim([0.45, 1.02])\n",
    "plt.xlabel('Duration (ms)')\n",
    "plt.ylabel('Accuracy')"
   ]
  },
  {
   "attachments": {},
   "cell_type": "markdown",
   "metadata": {},
   "source": [
    "Do the results look exactly similar to those reported in literature??\n",
    "\n",
    "Cool. Our fake subject behaves similar to subjects in real experiments. "
   ]
  },
  {
   "attachments": {},
   "cell_type": "markdown",
   "metadata": {},
   "source": [
    "## Summary\n",
    "1. The subject makes a decision by counting dots moving to left/right\n",
    "2. In real experiments, we test many coherence levels and many stimulus durations in many trials"
   ]
  }
 ],
 "metadata": {
  "kernelspec": {
   "display_name": "mne",
   "language": "python",
   "name": "python3"
  },
  "language_info": {
   "codemirror_mode": {
    "name": "ipython",
    "version": 3
   },
   "file_extension": ".py",
   "mimetype": "text/x-python",
   "name": "python",
   "nbconvert_exporter": "python",
   "pygments_lexer": "ipython3",
   "version": "3.10.4"
  },
  "orig_nbformat": 4,
  "vscode": {
   "interpreter": {
    "hash": "6c5a876fa049f083f2e571ef64f1d25be9eec14fbc0627aabafac0fa7f44fa64"
   }
  }
 },
 "nbformat": 4,
 "nbformat_minor": 2
}
